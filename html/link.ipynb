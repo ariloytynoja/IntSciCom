{
 "cells": [
  {
   "cell_type": "markdown",
   "id": "7a950176-5f86-464c-9aa2-ea029c0e7c93",
   "metadata": {},
   "source": [
    "## Course material\n",
    "\n",
    "The course material can be found at [https://intscicom.biocenter.helsinki.fi/](https://intscicom.biocenter.helsinki.fi/)."
   ]
  }
 ],
 "metadata": {
  "kernelspec": {
   "display_name": "Python 3 (ipykernel)",
   "language": "python",
   "name": "python3"
  },
  "language_info": {
   "codemirror_mode": {
    "name": "ipython",
    "version": 3
   },
   "file_extension": ".py",
   "mimetype": "text/x-python",
   "name": "python",
   "nbconvert_exporter": "python",
   "pygments_lexer": "ipython3",
   "version": "3.10.12"
  }
 },
 "nbformat": 4,
 "nbformat_minor": 5
}
