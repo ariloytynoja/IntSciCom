{
 "cells": [
  {
   "cell_type": "markdown",
   "id": "f202d745-dda7-4f6b-bd6b-1409a7a0b883",
   "metadata": {},
   "source": [
    "# Accuracy of alternative data sources for temperature data\n",
    "### Matti Meikäläinen\n",
    "### 22 March, 2024\n",
    "\n",
    "# Motivation\n",
    "\n",
    "The motivation of the study was to investigate whether the temperature data from the Finnish Meteorological Institute (FMI) could be replaced with the Open-Meteo (OpM) data that are computationally easier to retrieve. In this pilot, I focus on developing the methods that can be applied in a more detailed investigation using a longer timespan and a greater number of localities.\n",
    "\n",
    "# Materials and methods\n",
    "\n",
    "## Retrieval of FMI data\n",
    "\n",
    "The FMI data were manually retrieved on 8 February, 2024, using the web interface at [https://en.ilmatieteenlaitos.fi/download-observations](https://en.ilmatieteenlaitos.fi/download-observations). The chosen measurement was 'Average temperature' under 'Hourly observations' within 'Weather observations'. The chosen timespan was '1.1.2024-31.1.2024' and the chosen observation stations were 'Helsinki Malmi airfield' and 'Helsinki Vuosaari harbour'. The observations were downloaded in 'CSV format' and are placed in the directory `data/`.\n",
    "\n",
    "The CSV data were converted to TSV format using the following `convert_FMI.sh` script:"
   ]
  },
  {
   "cell_type": "code",
   "execution_count": null,
   "id": "ef5359d6-386f-4148-a4d0-02b0451e42d4",
   "metadata": {},
   "outputs": [],
   "source": [
    "%%bash\n",
    "\n",
    "cat > convert_FMI.sh << 'EOF'\n",
    "#!/usr/bin/bash\n",
    "sed -n 2,\\$p $1 | sed 's/[\\\"\\r]//g;s/,/\\t/g;s/ /_/g' \\\n",
    "| awk '{printf \"%d-%02d-%02dT%s\\t%.1f\\n\",$2,$3,$4,$5,$6}'\n",
    "EOF"
   ]
  },
  {
   "cell_type": "markdown",
   "id": "2674d5e0-2866-4456-845b-d83004a16437",
   "metadata": {},
   "source": [
    "This script removes the doublequotes and CR characters and connects the observation station's name into one word with underscores. In the second part, the location field is dropped and the date field is converted to the format used in the OpM data. For the manually downloaded files, the conversion was done like this:"
   ]
  },
  {
   "cell_type": "code",
   "execution_count": null,
   "id": "7c68c18b-d33b-4073-8b42-6eb9ccc714c6",
   "metadata": {},
   "outputs": [],
   "source": [
    "%%bash\n",
    "\n",
    "bash convert_FMI.sh data/Malmi_airfield_1.1.2024-31.1.2024.csv \\\n",
    " > data/Malmi_FMI.tsv\n",
    "    \n",
    "bash convert_FMI.sh data/Vuosaari_harbour_1.1.2024-31.1.2024.csv \\\n",
    " > data/Vuosaari_FMI.tsv"
   ]
  },
  {
   "cell_type": "markdown",
   "id": "0ed3a25e-7995-4ab0-90fb-47a13886cb08",
   "metadata": {},
   "source": [
    "## Retrieval of OpM data\n",
    "\n",
    "The command for downloading the OpM data were manually constructed using the web interface at [https://open-meteo.com/en/docs/historical-weather-api](https://open-meteo.com/en/docs/historical-weather-api). The coordinates for 'Helsinki-Malmi Airport' and 'Vuosaari (Uusimaa)' were searched using the Search box and the 'Timezone' was set to 'Automatically detect'. The Start and End Date were set as '2024-01-01' and '2024-01-31' and 'Temperature (2 m)' was selected under 'Hourly Weather Variables'. 'Temperature Unit' was kept in its default, 'Celcius'. The JSON-formatted data were converted to TSV format using the program 'jq'. Joining together, the download and format conversion was done like this:"
   ]
  },
  {
   "cell_type": "code",
   "execution_count": null,
   "id": "47ffd413-bd67-466e-8ff6-d3cb8ca07e29",
   "metadata": {},
   "outputs": [],
   "source": [
    "%%bash\n",
    "\n",
    "curl \"https://archive-api.open-meteo.com/v1/archive?hourly=temperature_2m&\\\n",
    "latitude=60.2546&longitude=25.0428&start_date=2024-01-01&end_date=2024-01-31&\\\n",
    "timezone=auto\" \\\n",
    "| jq -r '[.hourly.time,.hourly.temperature_2m] | transpose[] | @tsv' \\\n",
    "> data/Malmi_OpM.tsv\n",
    "    \n",
    "curl \"https://archive-api.open-meteo.com/v1/archive?hourly=temperature_2m&\\\n",
    "latitude=60.2096&longitude=25.142&start_date=2024-01-01&end_date=2024-01-31&\\\n",
    "timezone=auto\" \\\n",
    "| jq -r '[.hourly.time,.hourly.temperature_2m] | transpose[] | @tsv' \\\n",
    "> data/Vuosaari_OpM.tsv\n"
   ]
  },
  {
   "cell_type": "markdown",
   "id": "685a6eaa-eabf-4b71-bab1-1dd5970265de",
   "metadata": {},
   "source": [
    "For the convenience, the data files for each locality were joined into one file, using the date field as the join key: "
   ]
  },
  {
   "cell_type": "code",
   "execution_count": null,
   "id": "de277e65-0173-41d4-a3f1-d0b6d8c6f4d6",
   "metadata": {},
   "outputs": [],
   "source": [
    "%%bash\n",
    "\n",
    "(echo \"Date FMI OpM\" && join data/Malmi_{FMI,OpM}.tsv) > data/Malmi.tsv\n",
    "(echo \"Date FMI OpM\" && join data/Vuosaari_{FMI,OpM}.tsv) > data/Vuosaari.tsv"
   ]
  },
  {
   "cell_type": "markdown",
   "id": "dd2086e2-aed8-4931-a68a-d1a129c30cde",
   "metadata": {},
   "source": [
    "The resulting files for statistical analyses are thus `data/Malmi.tsv` and `data/Vuosaari.tsv`.\n",
    "\n",
    "## Statistical analyses\n",
    "\n",
    "The statistical analyses and data visualisation were performed using the Python packages pandas, numpy and matplotlib."
   ]
  },
  {
   "cell_type": "code",
   "execution_count": null,
   "id": "c1868360-e164-4246-8143-6789a507186f",
   "metadata": {},
   "outputs": [],
   "source": [
    "import pandas as pd\n",
    "import numpy as np\n",
    "from matplotlib import pyplot as plt"
   ]
  },
  {
   "cell_type": "markdown",
   "id": "0036c277-c4af-46fe-8ab0-faf98cdbfb5e",
   "metadata": {},
   "source": [
    "First, the two data files were merged into one dataframe:"
   ]
  },
  {
   "cell_type": "code",
   "execution_count": null,
   "id": "4be6d6e3-171c-47a3-a2e4-d747f7e786ed",
   "metadata": {},
   "outputs": [],
   "source": [
    "dat_m = pd.read_csv('data/Malmi.tsv',sep=\" \")\n",
    "dat_v = pd.read_csv('data/Vuosaari.tsv',sep=\" \")\n",
    "\n",
    "dat = pd.merge(dat_m, dat_v, on=\"Date\")\n",
    "dat.columns = ['Date','Malmi_FMI','Malmi_OpM','Vuosaari_FMI','Vuosaari_OpM']"
   ]
  },
  {
   "cell_type": "markdown",
   "id": "c9ac62a9-25c0-4c16-94a3-9c8d9a4f24a8",
   "metadata": {},
   "source": [
    "After that, the pandas commands `corr` was used to compute pairwise correlation of columns:"
   ]
  },
  {
   "cell_type": "code",
   "execution_count": null,
   "id": "c7786363-6442-4480-bbd3-68d288488cbc",
   "metadata": {},
   "outputs": [],
   "source": [
    "dat.drop(['Date'],axis=1).corr()"
   ]
  },
  {
   "cell_type": "markdown",
   "id": "ac707f83-c22a-4a4b-86ce-8b79114a8177",
   "metadata": {},
   "source": [
    "To understand the reasons for the deviations, the observations across time were plotted together:"
   ]
  },
  {
   "cell_type": "code",
   "execution_count": null,
   "id": "94372454-b890-4aac-8048-c64ed185ab59",
   "metadata": {},
   "outputs": [],
   "source": [
    "plot = dat.plot('Date',['Malmi_FMI','Malmi_OpM','Vuosaari_FMI','Vuosaari_OpM'])"
   ]
  },
  {
   "cell_type": "markdown",
   "id": "fba0f1a6-4390-4a81-af7a-b4604b11c456",
   "metadata": {},
   "source": [
    "The plot indicated that the temperature measurements have reached lower values in Malmi. This was studied more closely by plotting the measurements for the observation stations as histograms:"
   ]
  },
  {
   "cell_type": "code",
   "execution_count": null,
   "id": "4c56604c-2a27-42ce-8534-f065e0b9abdb",
   "metadata": {},
   "outputs": [],
   "source": [
    "fig, axes = plt.subplots(nrows=2,ncols=1)\n",
    "\n",
    "axes[0].hist(dat.Malmi_FMI, bins=30, edgecolor='b', alpha=0.5, label='FMI')\n",
    "axes[0].hist(dat.Malmi_OpM, bins=30, edgecolor='b', alpha=0.5, label='OpM')\n",
    "axes[0].set_title('Malmi')\n",
    "axes[0].set_xlim([-30,5])\n",
    "axes[0].legend()\n",
    "\n",
    "axes[1].hist(dat.Vuosaari_FMI, bins=30, edgecolor='b', alpha=0.5, label='FMI')\n",
    "axes[1].hist(dat.Vuosaari_OpM, bins=30, edgecolor='b', alpha=0.5, label='OpM')\n",
    "axes[1].set_title('Vuosaari')\n",
    "axes[1].set_xlim([-30,5])\n",
    "axes[1].legend()\n",
    "\n",
    "fig.tight_layout()\n",
    "plt.show()"
   ]
  },
  {
   "cell_type": "markdown",
   "id": "c41a26cd-3957-4ae9-9e90-2f0b0ba8596d",
   "metadata": {},
   "source": [
    "and as pairwise scatter plots:"
   ]
  },
  {
   "cell_type": "code",
   "execution_count": null,
   "id": "0cbe6ee1-2cc4-44f3-929f-8d02b5f45e4d",
   "metadata": {},
   "outputs": [],
   "source": [
    "p1 = [1,1,3,2]\n",
    "p2 = [2,3,4,4]\n",
    "rc = [0,1,0,1]\n",
    "cc = [0,0,1,1]\n",
    "\n",
    "fig, axes = plt.subplots(2, 2)\n",
    "\n",
    "for i in range(4):\n",
    "    plot = dat.plot.scatter(p1[i], p2[i], \n",
    "                ax=axes[rc[i], cc[i]], xlim=[-30,5], ylim=[-30,5])\n",
    "    plot.axline((1, 1), slope=1, color='k', ls='--')\n",
    "\n",
    "fig.tight_layout()\n",
    "plt.show()\n"
   ]
  },
  {
   "cell_type": "markdown",
   "id": "bd94970a-6af9-4c07-bbd7-04180cd02e0e",
   "metadata": {},
   "source": [
    "# Results\n",
    "\n",
    "To be finished. Something about \n",
    "\n",
    "- Lower temperatures in Malmi than in Vuosaari. Is that because of the sea?\n",
    "- Vuosaari FMI and OpM correlate really nicely! What's wrong with Malmi?\n",
    "- In fact, Malmi_FMI and Vuosaari_FMI correlate pretty ok. Is the Malmi_Opm the weird one?\n",
    "\n",
    "# Discussion\n",
    "\n",
    "To be finished. Something about \n",
    "\n",
    "- I don't know the sources of the FMI and OpM data. Are there really that many observation stations at the Malmi airfield?\n",
    "- In fact, Vuosaari_OpM is from *Vuosaari*, not from the Vuosaari harbour. Despite that, the correlation between FMI and OpM is good!\n",
    "- I should remember the motivation of this whole exercise and say something about the quality of the Open-Meteo data.\n",
    "- Should I spend some time to learn the API for the FMI data? That would solve the problem as well!"
   ]
  }
 ],
 "metadata": {
  "kernelspec": {
   "display_name": "Python 3 (ipykernel)",
   "language": "python",
   "name": "python3"
  },
  "language_info": {
   "codemirror_mode": {
    "name": "ipython",
    "version": 3
   },
   "file_extension": ".py",
   "mimetype": "text/x-python",
   "name": "python",
   "nbconvert_exporter": "python",
   "pygments_lexer": "ipython3",
   "version": "3.10.12"
  }
 },
 "nbformat": 4,
 "nbformat_minor": 5
}
